{
 "cells": [
  {
   "cell_type": "markdown",
   "metadata": {},
   "source": [
    "IGA 411A The Energy-Climate Challenge\n",
    "Assignment 1, Sept. 15, 2020\n",
    "Ramon Weber"
   ]
  },
  {
   "cell_type": "markdown",
   "metadata": {},
   "source": [
    "## 1. a \n",
    "\n",
    "Assumptions:\n",
    "\n",
    "US Energy use 2018 = 103 exajoule / per year\n",
    "\n",
    "Exajoule (1 EJ = 10^18 J)\n",
    "\n",
    "Terawatt (1 TW = 1000 GW) is 10^(12) J/sec"
   ]
  },
  {
   "cell_type": "code",
   "execution_count": 5,
   "metadata": {},
   "outputs": [
    {
     "data": {
      "text/plain": [
       "31536000"
      ]
     },
     "execution_count": 5,
     "metadata": {},
     "output_type": "execute_result"
    }
   ],
   "source": [
    "num_sec_year = 365*24*60*60"
   ]
  },
  {
   "cell_type": "code",
   "execution_count": 33,
   "metadata": {},
   "outputs": [
    {
     "name": "stdout",
     "output_type": "stream",
     "text": [
      "3.2661085743277525\n",
      "kW/person  9.98580309473278\n",
      "us_usage 3.2661085743277525  world_usage 76.20257252341959\n",
      "world_usage_kW 76202572523.41959\n"
     ]
    }
   ],
   "source": [
    "j = 103 * (10**18) # joule per year\n",
    "W = j/num_sec_year\n",
    "TW = W / (10**12)\n",
    "kW = W / 1000\n",
    "print(TW)\n",
    "num_people = 327075203 #Source: https://www.census.gov/popclock/  for September 13, 2018\n",
    "us_usage = kW/num_people\n",
    "print(\"kW/person \", us_usage)\n",
    "world_people = 7631091040 # Source https://www.worldometers.info/world-population/world-population-by-year/ for 2018\n",
    "world_usage_kW = us_usage*world_people\n",
    "world_usage_TW = (world_usage_kW*1000)/(10**12)\n",
    "print(\"us_usage\", TW, \" world_usage\", world_usage_TW)\n",
    "print(\"world_usage_kW\", world_usage_kW)"
   ]
  },
  {
   "cell_type": "markdown",
   "metadata": {},
   "source": [
    "## 1. b\n",
    "\n",
    "1850: 25 EJ\n",
    "1950: 100 EJ\n",
    "2000: 450 EJ\n"
   ]
  },
  {
   "cell_type": "code",
   "execution_count": 53,
   "metadata": {},
   "outputs": [
    {
     "name": "stdout",
     "output_type": "stream",
     "text": [
      "2000 - energy usage per person in kW 2.3226858858834185\n",
      "2000 - energy usage in TW:  14.269406392694064\n",
      "\n",
      "1950 - energy usage per person in kW 1.2271428619329976\n",
      "1950 - energy usage in TW:  3.1709791983764584\n",
      "\n",
      "1850 - energy usage per person in kW 0.6606206663284289\n",
      "1850 - energy usage in TW:  0.7927447995941146\n",
      "\n"
     ]
    }
   ],
   "source": [
    "def convEJTW(year, EJ, num_people):\n",
    "    j = EJ * (10**18) # joule per year\n",
    "    W = j/num_sec_year\n",
    "    TW = W / (10**12)\n",
    "    kW = W / 1000\n",
    "    energy_usage = kW/num_people\n",
    "    print(year, \"- energy usage per person in kW\", energy_usage) \n",
    "    print(year, \"- energy usage in TW: \", TW)\n",
    "    print()\n",
    "    \n",
    "convEJTW(2000, 450, 6143493823)\n",
    "convEJTW(1950, 100, 2584034261)\n",
    "convEJTW(1850, 25, 1200000000)"
   ]
  },
  {
   "cell_type": "code",
   "execution_count": 54,
   "metadata": {},
   "outputs": [
    {
     "name": "stdout",
     "output_type": "stream",
     "text": [
      "2018 - energy usage per person in kW 2.630651692095298\n",
      "2018 - energy usage in TW:  19.97716894977169\n",
      "\n"
     ]
    }
   ],
   "source": [
    "convEJTW(2018, 630, 7594000000)"
   ]
  },
  {
   "cell_type": "code",
   "execution_count": 56,
   "metadata": {},
   "outputs": [
    {
     "name": "stdout",
     "output_type": "stream",
     "text": [
      " world_usage 19.97716894977169 TW\n",
      " world_usage 96.86229001890797 TW\n",
      " world_usage 33.95 TW\n"
     ]
    }
   ],
   "source": [
    "def energyTot(num_people, energy_per_p):\n",
    "    world_people = num_people\n",
    "    world_usage_kW = energy_per_p*world_people\n",
    "    world_usage_TW = (world_usage_kW*1000)/(10**12)\n",
    "    print(\" world_usage\", world_usage_TW, \"TW\")\n",
    "energyTot(7594000000, 2.630651692095298)\n",
    "energyTot(9700000000, 9.98580309473278)\n",
    "energyTot(9700000000, 3.5)"
   ]
  },
  {
   "cell_type": "markdown",
   "metadata": {},
   "source": [
    "## 2. a"
   ]
  },
  {
   "cell_type": "code",
   "execution_count": 42,
   "metadata": {},
   "outputs": [
    {
     "name": "stdout",
     "output_type": "stream",
     "text": [
      "3.5457210298093202\n"
     ]
    }
   ],
   "source": [
    "years = 30\n",
    "increase = 1.01\n",
    "newtot = 2.630651692095298\n",
    "for i in range(years):\n",
    "    newtot *= increase\n",
    "print(newtot)"
   ]
  }
 ],
 "metadata": {
  "kernelspec": {
   "display_name": "Python 3",
   "language": "python",
   "name": "python3"
  },
  "language_info": {
   "codemirror_mode": {
    "name": "ipython",
    "version": 3
   },
   "file_extension": ".py",
   "mimetype": "text/x-python",
   "name": "python",
   "nbconvert_exporter": "python",
   "pygments_lexer": "ipython3",
   "version": "3.7.8"
  }
 },
 "nbformat": 4,
 "nbformat_minor": 4
}
